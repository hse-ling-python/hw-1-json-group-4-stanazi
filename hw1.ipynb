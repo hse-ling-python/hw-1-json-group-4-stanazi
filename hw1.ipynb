{
 "cells": [
  {
   "cell_type": "markdown",
   "metadata": {},
   "source": [
    "# Задание 1\n",
    "\n",
    "Сколько твитов в наборе?\n",
    "\n",
    "#### Решение:"
   ]
  },
  {
   "cell_type": "markdown",
   "metadata": {},
   "source": [
    "Решение было взято из семинара:)"
   ]
  },
  {
   "cell_type": "code",
   "execution_count": 1,
   "metadata": {},
   "outputs": [
    {
     "name": "stdout",
     "output_type": "stream",
     "text": [
      "Количество твитов: 2556\n"
     ]
    }
   ],
   "source": [
    "import json\n",
    "\n",
    "twitter = []\n",
    "for line in open('hw_3_twitter.json'):\n",
    "    twitter.append(json.loads(line))\n",
    "print(\"Количество твитов:\", len(twitter))"
   ]
  },
  {
   "cell_type": "markdown",
   "metadata": {},
   "source": [
    "# Задание 2\n",
    "\n",
    "Какой процент твитов составляют удаленные записи? (помеченные как deleted)\n",
    "\n",
    "#### Решение:"
   ]
  },
  {
   "cell_type": "markdown",
   "metadata": {},
   "source": [
    "Находим твиты, в структуре которых есть ключ \"delete\", затем делим их на общее количество твитов и умножаем на 100, чтобы получить проценты."
   ]
  },
  {
   "cell_type": "code",
   "execution_count": 16,
   "metadata": {},
   "outputs": [
    {
     "name": "stdout",
     "output_type": "stream",
     "text": [
      "14.162754303599373 %\n"
     ]
    }
   ],
   "source": [
    "print((sum(\"delete\" in t for t in twitter)/len(twitter))*100, \"%\") "
   ]
  },
  {
   "cell_type": "markdown",
   "metadata": {},
   "source": [
    "# Задение 3\n",
    "\n",
    "Какие самые популярные языки твитов?\n",
    "\n",
    "#### Решение:"
   ]
  },
  {
   "cell_type": "markdown",
   "metadata": {},
   "source": [
    "Сначала мы ищем какие в принципе языки есть, и находим их с помощью ключа \"lang\". Потом создаем частотный словарь и выводим топ-15 популярных твитов."
   ]
  },
  {
   "cell_type": "code",
   "execution_count": 3,
   "metadata": {},
   "outputs": [
    {
     "name": "stdout",
     "output_type": "stream",
     "text": [
      "en 719\n",
      "ja 438\n",
      "es 173\n",
      "ko 149\n",
      "th 123\n",
      "ar 119\n",
      "und 117\n",
      "in 71\n",
      "pt 69\n",
      "fr 35\n",
      "tr 30\n",
      "tl 29\n",
      "hi 23\n",
      "ru 15\n",
      "fa 8\n"
     ]
    }
   ],
   "source": [
    "data = []\n",
    "\n",
    "for twit in twitter:\n",
    "    if \"lang\" in twit:\n",
    "        data.append(twit[\"lang\"])\n",
    "\n",
    "import json\n",
    "from collections import Counter\n",
    "\n",
    "lang_list = Counter(data).most_common(15)\n",
    "\n",
    "for el in lang_list:\n",
    "    print(el[0], el[1])"
   ]
  },
  {
   "cell_type": "markdown",
   "metadata": {},
   "source": [
    "# Задание 4\n",
    "\n",
    "Есть ли твиты от одного и того же пользователя? Если да, то сколько таких пользователей?\n",
    "\n",
    "#### Решение:"
   ]
  },
  {
   "cell_type": "markdown",
   "metadata": {},
   "source": [
    "Так как ID неудобно для восприятия, мы ищем только имена пользователей. Дальше - составляем частотный словарь. \n",
    "Задаем условие для частотного словаря: если человек написал больше одного твита, то это удовлетворяет нашему условию и мы добаляем его в список. Затем выводим колличество этих пользователей, попавших в список."
   ]
  },
  {
   "cell_type": "code",
   "execution_count": 43,
   "metadata": {},
   "outputs": [
    {
     "name": "stdout",
     "output_type": "stream",
     "text": [
      "30\n"
     ]
    }
   ],
   "source": [
    "users = []\n",
    "\n",
    "for twit in twitter:\n",
    "    if \"user\" in twit:\n",
    "        users.append(twit[\"user\"][\"name\"])\n",
    "\n",
    "users_list = Counter(users).most_common()\n",
    "\n",
    "quant_tw = []\n",
    "\n",
    "for user in users_list:\n",
    "    if user[1] > 1:\n",
    "        quant_tw.append(user)\n",
    "\n",
    "print(len(quant_tw))"
   ]
  },
  {
   "cell_type": "markdown",
   "metadata": {},
   "source": [
    "# Задание 5\n",
    "\n",
    "Топ-20 хэштегов (для них есть специальное поле)\n",
    "\n",
    "#### Решение:"
   ]
  },
  {
   "cell_type": "markdown",
   "metadata": {},
   "source": [
    "Алгоритм аналогичен решению 3го задания. Но здесь оказалось, что ключ \"hashtags\" содержит в себе не только сам хэштег, но и другую информацию, которая нам не нужна. Поэтому мы используем ключ \"text\", чтобы вычленить именно текст хэштэга.\n",
    "Затем мы опять же создаем частотный словарь. И в конце выводим топ-20 хештегов."
   ]
  },
  {
   "cell_type": "code",
   "execution_count": 16,
   "metadata": {},
   "outputs": [
    {
     "name": "stdout",
     "output_type": "stream",
     "text": [
      "17 BTS\n",
      "13 방탄소년단\n",
      "11 AMAs\n",
      "8 人気投票ガチャ\n",
      "7 태형\n",
      "6 뷔\n",
      "5 BTSinChicago\n",
      "5 BTSLoveYourselfTour\n",
      "5 오늘의방탄\n",
      "5 PledgeForSwachhBharat\n",
      "5 MPN\n",
      "4 PCAs\n",
      "4 V\n",
      "4 시카고1회차공연\n",
      "4 เป๊กผลิตโชค\n",
      "4 JIMIN\n",
      "3 running\n",
      "3 NCT\n",
      "3 지민\n",
      "3 WajahmuPlastik\n"
     ]
    }
   ],
   "source": [
    "tags = []\n",
    "\n",
    "for twit in twitter:\n",
    "    if \"entities\" in twit:\n",
    "        for h in twit[\"entities\"][\"hashtags\"]:\n",
    "            tags.append(h[\"text\"])\n",
    "            \n",
    "tags_list = Counter(tags).most_common(20)\n",
    "\n",
    "for el in tags_list:\n",
    "    print(el[1], el[0])"
   ]
  },
  {
   "cell_type": "markdown",
   "metadata": {},
   "source": [
    "# Задание 7\n",
    "\n",
    "Найти количество подписчиков (фолловеров) у авторов твитов и вывести топ-10\n",
    "\n",
    "#### Решение:"
   ]
  },
  {
   "cell_type": "markdown",
   "metadata": {},
   "source": [
    "Здесь нам требуется создать словарь, где будут выведены имя пользователя и колличество их фолловеров, для этого используем ключи \"name\" и \"followers_count\". Затем мы сортируем список списков по второму элементу (lambda). И принтим."
   ]
  },
  {
   "cell_type": "code",
   "execution_count": 24,
   "metadata": {},
   "outputs": [
    {
     "name": "stdout",
     "output_type": "stream",
     "text": [
      "2521403 Filosofía♕\n",
      "1491309 FITNESS Magazine\n",
      "1206759 malaysiakini.com\n",
      "1137374 NYT Science\n",
      "625463 Gramática\n",
      "392472 TGRT Haber\n",
      "383698 The Sun Football ⚽\n",
      "374222 Melbourne, Australia\n",
      "318189 Roznama Express\n",
      "311319 💞 ცųཞɠɛཞცơơɠıɛ 💞\n"
     ]
    }
   ],
   "source": [
    "follows = []\n",
    "\n",
    "for twit in twitter:\n",
    "    if \"user\" in twit:\n",
    "        if \"followers_count\" in twit[\"user\"]:\n",
    "            follows.append([\n",
    "                twit[\"user\"][\"name\"],\n",
    "                 twit [\"user\"][\"followers_count\"]\n",
    "            ])\n",
    "new_follows = []\n",
    "for f in follows:\n",
    "    if f not in new_follows:\n",
    "        new_follows.append(f)\n",
    "new_follows = sorted(new_follows, key=lambda x: x[1])\n",
    "new_follows = reversed(new_follows)\n",
    "new_follows = list(new_follows)[:10]\n",
    "for f in new_follows:\n",
    "    print(f[1], f[0])"
   ]
  }
 ],
 "metadata": {
  "kernelspec": {
   "display_name": "Python 3",
   "language": "python",
   "name": "python3"
  },
  "language_info": {
   "codemirror_mode": {
    "name": "ipython",
    "version": 3
   },
   "file_extension": ".py",
   "mimetype": "text/x-python",
   "name": "python",
   "nbconvert_exporter": "python",
   "pygments_lexer": "ipython3",
   "version": "3.7.4"
  }
 },
 "nbformat": 4,
 "nbformat_minor": 2
}
